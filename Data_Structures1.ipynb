{
  "nbformat": 4,
  "nbformat_minor": 0,
  "metadata": {
    "colab": {
      "provenance": []
    },
    "kernelspec": {
      "name": "python3",
      "display_name": "Python 3"
    },
    "language_info": {
      "name": "python"
    }
  },
  "cells": [
    {
      "cell_type": "markdown",
      "source": [
        "Q1. Discuss string slicing and provide examples.\n",
        "\n",
        "A1. All strings are indexed from '0' to (length of the string-1) from left to right and from '-1' to -(length of the string) from right to left. Each character in a string can be accessed with the help of these indices.\n",
        "\n",
        "String slicing refers to accessing of characters or a combination of characters in a given string value with the help of these indices (either using the left indexing or the righ indexing pattern). The syntax for string slicing is:\n",
        "\n",
        "string[start:end:step]"
      ],
      "metadata": {
        "id": "PrqR-pn4p01T"
      }
    },
    {
      "cell_type": "code",
      "source": [
        "#Examples of string slicing\n",
        "string1= \"I am a student of Data Science\"\n",
        "length=len(string1)\n",
        "str1=string1[0:4]\n",
        "print(str1)\n",
        "str2=string1[5:14]\n",
        "print(str2)\n",
        "str3=string1[-7:length]\n",
        "print(str3)\n",
        "str4=string1[-7:length:2]\n",
        "print(str4)\n",
        "str5=string1[0::]\n",
        "print(str5)"
      ],
      "metadata": {
        "colab": {
          "base_uri": "https://localhost:8080/"
        },
        "id": "9H5y5faV2LSY",
        "outputId": "48a2f6b2-6c69-41b8-b5da-538240864deb"
      },
      "execution_count": null,
      "outputs": [
        {
          "output_type": "stream",
          "name": "stdout",
          "text": [
            "I am\n",
            "a student\n",
            "Science\n",
            "Sine\n",
            "I am a student of Data Science\n"
          ]
        }
      ]
    },
    {
      "cell_type": "markdown",
      "source": [
        "Q2. Explain the key features of lists in python.\n",
        "\n",
        "A2.Lists are a kind of data structure that is used in python. It is an odered collection of elements that can be of any data type namely an integer, float, string, list, tuple, etc. Lists are mutable,i.e that is each element of the list can be accessed and modified (i.e. items can be added or removed in a list) as per the coder's convinience. This makes python a  highly versatile form of data structure in python."
      ],
      "metadata": {
        "id": "K3TPoyht8g6D"
      }
    },
    {
      "cell_type": "code",
      "source": [
        "# Examples of list\n",
        "lis=[1,2,4,64,67.98,\"PWskills\", \"Data Science\", [4,5,6]]\n",
        "type(lis)"
      ],
      "metadata": {
        "colab": {
          "base_uri": "https://localhost:8080/"
        },
        "id": "4CtgTdOIrpMn",
        "outputId": "a58e6088-73dc-4dc7-a9a4-0f0c628bb65f"
      },
      "execution_count": null,
      "outputs": [
        {
          "output_type": "execute_result",
          "data": {
            "text/plain": [
              "list"
            ]
          },
          "metadata": {},
          "execution_count": 1
        }
      ]
    },
    {
      "cell_type": "markdown",
      "source": [
        "Q3. Describe how to access, modify, and delete elements in a list with examples.\n",
        "\n",
        "A3. **Accessing elements in a list**: Each element in a list is indexed from '0' to the (length of the list-1) from left to right and from -1 to -(length of the list) from right to left. Using these indices one can access any element from the list and the indexing method also helps one in slicing of the list similar to that of a string.\n",
        "\n",
        "**Modifying elements in a list**: Since list is a mutable type of data structure, each element of a list can be modified. An element in a list can be changes simply by accessing the element by its index and reassigning it to the required value. Elements can also be added to the list by using the in built python functions like apend(), insert() and extend().\n",
        "\n",
        "**Deleting elements in a list**: Elememts can be deleted from a list by using the in built python functions like remove(). The entire list can be deleted by using clear()."
      ],
      "metadata": {
        "id": "cDF-ac7wstNc"
      }
    },
    {
      "cell_type": "code",
      "source": [
        "# Examples of accessing elements in a list\n",
        "lis=[1,2,4,64,67.98,\"PWskills\", \"Data Science\", [4,5,6]]\n",
        "lis[2]"
      ],
      "metadata": {
        "colab": {
          "base_uri": "https://localhost:8080/"
        },
        "id": "zArCK7wY-6Gm",
        "outputId": "5a0177b3-e312-4f95-9c62-63abe01e7042"
      },
      "execution_count": null,
      "outputs": [
        {
          "output_type": "execute_result",
          "data": {
            "text/plain": [
              "4"
            ]
          },
          "metadata": {},
          "execution_count": 13
        }
      ]
    },
    {
      "cell_type": "code",
      "source": [
        "lis[-3]"
      ],
      "metadata": {
        "colab": {
          "base_uri": "https://localhost:8080/",
          "height": 35
        },
        "id": "sD3hJtks_ggK",
        "outputId": "bfcca128-2f87-4d7d-c20a-2bfff5bb2131"
      },
      "execution_count": null,
      "outputs": [
        {
          "output_type": "execute_result",
          "data": {
            "text/plain": [
              "'PWskills'"
            ],
            "application/vnd.google.colaboratory.intrinsic+json": {
              "type": "string"
            }
          },
          "metadata": {},
          "execution_count": 14
        }
      ]
    },
    {
      "cell_type": "code",
      "source": [
        "lis[0:len(lis)-1:2]"
      ],
      "metadata": {
        "colab": {
          "base_uri": "https://localhost:8080/"
        },
        "id": "a4hKLgUD_lL6",
        "outputId": "95c8bcb4-40cd-4c8c-ab1e-49448685d81d"
      },
      "execution_count": null,
      "outputs": [
        {
          "output_type": "execute_result",
          "data": {
            "text/plain": [
              "[1, 4, 67.98, 'Data Science']"
            ]
          },
          "metadata": {},
          "execution_count": 17
        }
      ]
    },
    {
      "cell_type": "code",
      "source": [
        "#Examples of modifying a list\n",
        "lis.append(\"Apple\") #adds the element to the end of the list\n",
        "print(lis)\n",
        "lis.insert(1,\"Mango\")#adds the element to the list before the mentioned index\n",
        "print(lis)"
      ],
      "metadata": {
        "colab": {
          "base_uri": "https://localhost:8080/"
        },
        "id": "DxzccNRWAiij",
        "outputId": "30d0a3e9-7ad2-486e-b921-7a8d584d2bfa"
      },
      "execution_count": null,
      "outputs": [
        {
          "output_type": "stream",
          "name": "stdout",
          "text": [
            "[1, 2, 4, 64, 67.98, 'PWskills', 'Data Science', [4, 5, 6], 'Apple']\n",
            "[1, 'Mango', 2, 4, 64, 67.98, 'PWskills', 'Data Science', [4, 5, 6], 'Apple']\n"
          ]
        }
      ]
    },
    {
      "cell_type": "code",
      "source": [
        "#Examples of deleting elements in a list\n",
        "lis.remove(\"Apple\")\n",
        "lis"
      ],
      "metadata": {
        "colab": {
          "base_uri": "https://localhost:8080/"
        },
        "id": "O4lNvxiMBQuV",
        "outputId": "402193d4-e7d9-4c1f-b10d-284472e50a92"
      },
      "execution_count": null,
      "outputs": [
        {
          "output_type": "execute_result",
          "data": {
            "text/plain": [
              "[1, 'Mango', 2, 4, 64, 67.98, 'PWskills', 'Data Science', [4, 5, 6]]"
            ]
          },
          "metadata": {},
          "execution_count": 32
        }
      ]
    },
    {
      "cell_type": "code",
      "source": [
        "lis.remove(\"Mango\")\n",
        "lis"
      ],
      "metadata": {
        "colab": {
          "base_uri": "https://localhost:8080/"
        },
        "id": "bei4RmDjDNoN",
        "outputId": "09d7cbe7-8bcc-4f1c-c43f-73470b198b1a"
      },
      "execution_count": null,
      "outputs": [
        {
          "output_type": "execute_result",
          "data": {
            "text/plain": [
              "[1, 2, 4, 64, 67.98, 'PWskills', 'Data Science', [4, 5, 6]]"
            ]
          },
          "metadata": {},
          "execution_count": 33
        }
      ]
    },
    {
      "cell_type": "code",
      "source": [
        "#Examples of merging 2 lists\n",
        "lis=[1,2,4,64,67.98,\"PWskills\", \"Data Science\", [4,5,6]]\n",
        "lis2=[\"Apple\",\"Mango\"]\n",
        "lis.extend(lis2)\n",
        "print(lis)"
      ],
      "metadata": {
        "colab": {
          "base_uri": "https://localhost:8080/"
        },
        "id": "9nRxd5zXDTuj",
        "outputId": "dbfa05f5-718d-4fe3-93f9-6c987b4f930e"
      },
      "execution_count": null,
      "outputs": [
        {
          "output_type": "stream",
          "name": "stdout",
          "text": [
            "[1, 2, 4, 64, 67.98, 'PWskills', 'Data Science', [4, 5, 6], 'Apple', 'Mango']\n"
          ]
        }
      ]
    },
    {
      "cell_type": "markdown",
      "source": [
        "Q4. Compare and contrast tuples and lists with examples.\n",
        "\n",
        "A4. Both lists and tuples are part of the data structures in Python. The primary difference between lists and tuples are that lists are mutable and tuples are immutable.\n",
        "Lists are mutable, as in the elements in the lists can be accessed, modifoed as well as removed as per the programmer's necessity. On the other hand, tuples are immutable, and once defined, the elements of the tuple cannot be modified by assigning them to new value.\n",
        "\n",
        "The syntactical difference between a list and a tuple is that lists are defined by using square brackets while tuples are defined using parenthesis.\n",
        "\n",
        "Performance wise, tuples are much more efficient and faster because their memory size is fixed unlike lists."
      ],
      "metadata": {
        "id": "9immPOUpEI8G"
      }
    },
    {
      "cell_type": "code",
      "source": [
        "#Differences between list and tuple\n",
        "lis=[1,2,4,64,67.98,\"PWskills\", \"Data Science\", [4,5,6]]\n",
        "tup=(11,22,33,44,55)\n",
        "print(type(lis))\n",
        "print(type(tup))"
      ],
      "metadata": {
        "colab": {
          "base_uri": "https://localhost:8080/"
        },
        "id": "3m-I0U06OZyi",
        "outputId": "5d31a5aa-8ad2-4b5c-b21a-cf512b8d94ab"
      },
      "execution_count": null,
      "outputs": [
        {
          "output_type": "stream",
          "name": "stdout",
          "text": [
            "<class 'list'>\n",
            "<class 'tuple'>\n"
          ]
        }
      ]
    },
    {
      "cell_type": "code",
      "source": [
        "#Mutability of list\n",
        "lis[5]=\"Apple\"\n",
        "print(lis)"
      ],
      "metadata": {
        "colab": {
          "base_uri": "https://localhost:8080/"
        },
        "id": "qCfoqIe-Pbz7",
        "outputId": "5c708e60-9e6f-4bd3-aab0-182472897cac"
      },
      "execution_count": null,
      "outputs": [
        {
          "output_type": "stream",
          "name": "stdout",
          "text": [
            "[1, 2, 4, 64, 67.98, 'Apple', 'Data Science', [4, 5, 6]]\n"
          ]
        }
      ]
    },
    {
      "cell_type": "code",
      "source": [
        "#Immutability of tupple\n",
        "tup[2]=56\n",
        "print(tup)"
      ],
      "metadata": {
        "colab": {
          "base_uri": "https://localhost:8080/",
          "height": 176
        },
        "id": "AR55GklbPniZ",
        "outputId": "ce1bddfe-3928-4d35-b5b0-ccb707ba3b6d"
      },
      "execution_count": null,
      "outputs": [
        {
          "output_type": "error",
          "ename": "TypeError",
          "evalue": "'tuple' object does not support item assignment",
          "traceback": [
            "\u001b[0;31m---------------------------------------------------------------------------\u001b[0m",
            "\u001b[0;31mTypeError\u001b[0m                                 Traceback (most recent call last)",
            "\u001b[0;32m<ipython-input-37-cf81a0ad61ec>\u001b[0m in \u001b[0;36m<cell line: 2>\u001b[0;34m()\u001b[0m\n\u001b[1;32m      1\u001b[0m \u001b[0;31m#Immutability of tupple\u001b[0m\u001b[0;34m\u001b[0m\u001b[0;34m\u001b[0m\u001b[0m\n\u001b[0;32m----> 2\u001b[0;31m \u001b[0mtup\u001b[0m\u001b[0;34m[\u001b[0m\u001b[0;36m2\u001b[0m\u001b[0;34m]\u001b[0m\u001b[0;34m=\u001b[0m\u001b[0;36m56\u001b[0m\u001b[0;34m\u001b[0m\u001b[0;34m\u001b[0m\u001b[0m\n\u001b[0m\u001b[1;32m      3\u001b[0m \u001b[0mprint\u001b[0m\u001b[0;34m(\u001b[0m\u001b[0mtup\u001b[0m\u001b[0;34m)\u001b[0m\u001b[0;34m\u001b[0m\u001b[0;34m\u001b[0m\u001b[0m\n",
            "\u001b[0;31mTypeError\u001b[0m: 'tuple' object does not support item assignment"
          ]
        }
      ]
    },
    {
      "cell_type": "markdown",
      "source": [
        "Q5.  Describe the key features of sets and provide examples of their use.\n",
        "\n",
        "A5. Sets are and unordered collection of unique elements. It is a kind of data structure that does not allow duplication. Due to its unordered nature, elements in a set cannot be accessed through indices. However, unique elements can be added to the set and it provides a more optimised method to check for the presense of an element than that in a list."
      ],
      "metadata": {
        "id": "gjN-cvZ_P2MK"
      }
    },
    {
      "cell_type": "code",
      "source": [
        "#Examples of unorderedness and uniqueness of set\n",
        "s={11,22,33,44,55,22,33,44,\"Apple\", \"Mango\",\"Apple\",\"Mango\"}\n",
        "type(s)"
      ],
      "metadata": {
        "colab": {
          "base_uri": "https://localhost:8080/"
        },
        "id": "9hmxiczJ3AFk",
        "outputId": "5860e13d-942b-46a1-f7b4-b7f2f3190c8f"
      },
      "execution_count": null,
      "outputs": [
        {
          "output_type": "execute_result",
          "data": {
            "text/plain": [
              "set"
            ]
          },
          "metadata": {},
          "execution_count": 2
        }
      ]
    },
    {
      "cell_type": "code",
      "source": [
        "print(s) # prints only the unique elements in an unordered manner"
      ],
      "metadata": {
        "colab": {
          "base_uri": "https://localhost:8080/"
        },
        "id": "vpCEQ2ah3euw",
        "outputId": "2c1e718c-1058-415b-820b-d87018eadeec"
      },
      "execution_count": null,
      "outputs": [
        {
          "output_type": "stream",
          "name": "stdout",
          "text": [
            "{'Mango', 33, 55, 22, 'Apple', 11, 44}\n"
          ]
        }
      ]
    },
    {
      "cell_type": "code",
      "source": [
        "s[4] #unordered: elements in the set cannot be accessed"
      ],
      "metadata": {
        "colab": {
          "base_uri": "https://localhost:8080/",
          "height": 141
        },
        "id": "dKnyNi7N3s7W",
        "outputId": "d3ec8f2b-6395-42d3-af1a-ffe81faa82c2"
      },
      "execution_count": null,
      "outputs": [
        {
          "output_type": "error",
          "ename": "TypeError",
          "evalue": "'set' object is not subscriptable",
          "traceback": [
            "\u001b[0;31m---------------------------------------------------------------------------\u001b[0m",
            "\u001b[0;31mTypeError\u001b[0m                                 Traceback (most recent call last)",
            "\u001b[0;32m<ipython-input-4-a81280e08423>\u001b[0m in \u001b[0;36m<cell line: 1>\u001b[0;34m()\u001b[0m\n\u001b[0;32m----> 1\u001b[0;31m \u001b[0ms\u001b[0m\u001b[0;34m[\u001b[0m\u001b[0;36m4\u001b[0m\u001b[0;34m]\u001b[0m\u001b[0;34m\u001b[0m\u001b[0;34m\u001b[0m\u001b[0m\n\u001b[0m",
            "\u001b[0;31mTypeError\u001b[0m: 'set' object is not subscriptable"
          ]
        }
      ]
    },
    {
      "cell_type": "code",
      "source": [
        "# adding an element to the set\n",
        "s.add(\"Banana\")\n",
        "s"
      ],
      "metadata": {
        "colab": {
          "base_uri": "https://localhost:8080/"
        },
        "id": "mWHgBW8u5Gk-",
        "outputId": "fe3ed0f0-72fc-42c9-da4a-85b3763e25ed"
      },
      "execution_count": null,
      "outputs": [
        {
          "output_type": "execute_result",
          "data": {
            "text/plain": [
              "{11, 22, 33, 44, 55, 'Apple', 'Banana', 'Mango'}"
            ]
          },
          "metadata": {},
          "execution_count": 6
        }
      ]
    },
    {
      "cell_type": "code",
      "source": [
        "# removing an elements from a set\n",
        "s.remove(\"Apple\")\n",
        "s"
      ],
      "metadata": {
        "colab": {
          "base_uri": "https://localhost:8080/"
        },
        "id": "FSE1j-776g1H",
        "outputId": "06c161cf-6060-4d14-da5b-5a74b33878ce"
      },
      "execution_count": null,
      "outputs": [
        {
          "output_type": "execute_result",
          "data": {
            "text/plain": [
              "{11, 22, 33, 44, 55, 'Banana', 'Mango'}"
            ]
          },
          "metadata": {},
          "execution_count": 11
        }
      ]
    },
    {
      "cell_type": "markdown",
      "source": [
        "Q6. Discuss the use cases of tuples and sets in Python programming.\n",
        "\n",
        "A6. Use case of tuples in python programming: Since tuples are immutable and ordered, they can be used to store unchangable items like the employee identification numbers in an organisation or the bank account number of the customers etc.\n",
        "\n",
        "Use cse of set in python programming: Sets are unordered and unique collection of items. Therefore, it provides with an efficient way of iterating through each item if the coder were to search for a specific element within a set. Along with it, sets are much more efficient in terms of performance and memory usage in python programming. It can also be used for billing softwares, where only unique elements are considered."
      ],
      "metadata": {
        "id": "q2zcd9hV7QXn"
      }
    },
    {
      "cell_type": "markdown",
      "source": [
        "Q7. Describe how to add, modify, and delete items in a dictionary with examples.\n",
        "\n",
        "A7. Dictionary is a type of data structure in python, that stores its elements as key value pair.\n",
        "\n",
        "Adding an element in a dictionary: Items can be added in a dictionary simply by defining a key value pair.\n",
        "\n",
        "Modifying an element in a dictionary: The value to a corresponding key can be modified in a dictionary by redefining the key in the dictionary.\n",
        "\n",
        "Deleting an element from a dictionary:A key value pair can be deleted from a given dictionary by using the function del()."
      ],
      "metadata": {
        "id": "SQsSR2W8AuzZ"
      }
    },
    {
      "cell_type": "code",
      "source": [
        "d={\"name\":\"Amit\",\"course\":\"Data Science\",\"marks\":87}\n",
        "type(d)"
      ],
      "metadata": {
        "colab": {
          "base_uri": "https://localhost:8080/"
        },
        "id": "y0ZFOw_DOjjh",
        "outputId": "a6271448-f0b0-4210-99ba-4bc5311da664"
      },
      "execution_count": 20,
      "outputs": [
        {
          "output_type": "execute_result",
          "data": {
            "text/plain": [
              "dict"
            ]
          },
          "metadata": {},
          "execution_count": 20
        }
      ]
    },
    {
      "cell_type": "code",
      "source": [
        "d[\"name\"]#accessing an element in a dictionary"
      ],
      "metadata": {
        "colab": {
          "base_uri": "https://localhost:8080/",
          "height": 35
        },
        "id": "PXpYugfOPAFT",
        "outputId": "9fa78cc3-b0f3-4687-8334-2c56b63e0ae4"
      },
      "execution_count": 18,
      "outputs": [
        {
          "output_type": "execute_result",
          "data": {
            "text/plain": [
              "'Amit'"
            ],
            "application/vnd.google.colaboratory.intrinsic+json": {
              "type": "string"
            }
          },
          "metadata": {},
          "execution_count": 18
        }
      ]
    },
    {
      "cell_type": "code",
      "source": [
        "# adding an element in dictionary\n",
        "d[\"email:\"]=\"amit@gmail.com\"\n",
        "print(d)"
      ],
      "metadata": {
        "colab": {
          "base_uri": "https://localhost:8080/"
        },
        "id": "AHcChulVPHGA",
        "outputId": "cfdeee2c-a402-4c60-b50c-130e7e61bb18"
      },
      "execution_count": 21,
      "outputs": [
        {
          "output_type": "stream",
          "name": "stdout",
          "text": [
            "{'name': 'Amit', 'course': 'Data Science', 'marks': 87, 'email:': 'amit@gmail.com'}\n"
          ]
        }
      ]
    },
    {
      "cell_type": "code",
      "source": [
        "#modifying an item in a dictionary\n",
        "d[\"name\"]=\"Sumit\"\n",
        "print(d)"
      ],
      "metadata": {
        "colab": {
          "base_uri": "https://localhost:8080/"
        },
        "id": "W9xwOFmHXmMH",
        "outputId": "99937566-3ec8-4bec-cf9a-9a1fc1d558a7"
      },
      "execution_count": 22,
      "outputs": [
        {
          "output_type": "stream",
          "name": "stdout",
          "text": [
            "{'name': 'Sumit', 'course': 'Data Science', 'marks': 87, 'email:': 'amit@gmail.com'}\n"
          ]
        }
      ]
    },
    {
      "cell_type": "code",
      "source": [
        "# deleting an item or key value pain from a dictionary\n",
        "del d[\"name\"]\n",
        "print(d)"
      ],
      "metadata": {
        "colab": {
          "base_uri": "https://localhost:8080/"
        },
        "id": "L9NomFC8XyEg",
        "outputId": "2c8ca351-74cb-4f93-8f94-49b7a75911ba"
      },
      "execution_count": 24,
      "outputs": [
        {
          "output_type": "stream",
          "name": "stdout",
          "text": [
            "{'course': 'Data Science', 'marks': 87, 'email:': 'amit@gmail.com'}\n"
          ]
        }
      ]
    },
    {
      "cell_type": "markdown",
      "source": [
        " Q8. Discuss the importance of dictionary keys being immutable and provide example.\n",
        "\n",
        " A8. Dictionary keys are immutable. Therefore, only strings, integers, float and tuples can be defined as keys in the dictionary. Additionaly, in a dictionary values can be accessed through keys but keys cannot be accessed through values. This is primarily because the items in a dictionary has no index values and can be accessed individually solely through their corresponding keys.\n"
      ],
      "metadata": {
        "id": "e6rK2B_eYIlL"
      }
    },
    {
      "cell_type": "code",
      "source": [
        "# Examples for dictionary keys being immutable\n",
        "dic={\"name\":\"Amit\"}#string as a key\n",
        "dic"
      ],
      "metadata": {
        "colab": {
          "base_uri": "https://localhost:8080/"
        },
        "id": "HfrSUJwXY_ew",
        "outputId": "b3e81b10-aa06-4b40-ebe4-3f52226b11cd"
      },
      "execution_count": 34,
      "outputs": [
        {
          "output_type": "execute_result",
          "data": {
            "text/plain": [
              "{'name': 'Amit'}"
            ]
          },
          "metadata": {},
          "execution_count": 34
        }
      ]
    },
    {
      "cell_type": "code",
      "source": [
        "dic={1:\"one\"}#integer as a key\n",
        "dic"
      ],
      "metadata": {
        "colab": {
          "base_uri": "https://localhost:8080/"
        },
        "id": "wPsErYgIaJ6o",
        "outputId": "d315dc8f-41eb-4a2e-cb42-b550c2a8bda3"
      },
      "execution_count": 35,
      "outputs": [
        {
          "output_type": "execute_result",
          "data": {
            "text/plain": [
              "{1: 'one'}"
            ]
          },
          "metadata": {},
          "execution_count": 35
        }
      ]
    },
    {
      "cell_type": "code",
      "source": [
        "dic={1.2:\"one point two\"} #float as a key\n",
        "dic"
      ],
      "metadata": {
        "colab": {
          "base_uri": "https://localhost:8080/"
        },
        "id": "r9jleoWraPyZ",
        "outputId": "275b7f2d-c811-4cd4-8987-bc47cdee47e5"
      },
      "execution_count": 36,
      "outputs": [
        {
          "output_type": "execute_result",
          "data": {
            "text/plain": [
              "{1.2: 'one point two'}"
            ]
          },
          "metadata": {},
          "execution_count": 36
        }
      ]
    },
    {
      "cell_type": "code",
      "source": [
        "dic={(1,2,3):\"a\"} #tuple as a key\n",
        "dic"
      ],
      "metadata": {
        "colab": {
          "base_uri": "https://localhost:8080/"
        },
        "id": "kooktZURabvg",
        "outputId": "e8b46bf4-0ebc-4e8a-b66e-9854550ff036"
      },
      "execution_count": 37,
      "outputs": [
        {
          "output_type": "execute_result",
          "data": {
            "text/plain": [
              "{(1, 2, 3): 'a'}"
            ]
          },
          "metadata": {},
          "execution_count": 37
        }
      ]
    },
    {
      "cell_type": "code",
      "source": [
        "dic={[1,2,3]:\"b\"} #since list is mutable, it cannot be used as a key\n",
        "dic"
      ],
      "metadata": {
        "colab": {
          "base_uri": "https://localhost:8080/",
          "height": 158
        },
        "id": "yxPkrWTXayK5",
        "outputId": "7ea51172-77f9-4047-af09-01741c569bc1"
      },
      "execution_count": 33,
      "outputs": [
        {
          "output_type": "error",
          "ename": "TypeError",
          "evalue": "unhashable type: 'list'",
          "traceback": [
            "\u001b[0;31m---------------------------------------------------------------------------\u001b[0m",
            "\u001b[0;31mTypeError\u001b[0m                                 Traceback (most recent call last)",
            "\u001b[0;32m<ipython-input-33-903bd7bc91d0>\u001b[0m in \u001b[0;36m<cell line: 1>\u001b[0;34m()\u001b[0m\n\u001b[0;32m----> 1\u001b[0;31m \u001b[0mdic\u001b[0m\u001b[0;34m=\u001b[0m\u001b[0;34m{\u001b[0m\u001b[0;34m[\u001b[0m\u001b[0;36m1\u001b[0m\u001b[0;34m,\u001b[0m\u001b[0;36m2\u001b[0m\u001b[0;34m,\u001b[0m\u001b[0;36m3\u001b[0m\u001b[0;34m]\u001b[0m\u001b[0;34m:\u001b[0m\u001b[0;34m\"b\"\u001b[0m\u001b[0;34m}\u001b[0m\u001b[0;34m\u001b[0m\u001b[0;34m\u001b[0m\u001b[0m\n\u001b[0m\u001b[1;32m      2\u001b[0m \u001b[0mdic\u001b[0m\u001b[0;34m\u001b[0m\u001b[0;34m\u001b[0m\u001b[0m\n",
            "\u001b[0;31mTypeError\u001b[0m: unhashable type: 'list'"
          ]
        }
      ]
    },
    {
      "cell_type": "code",
      "source": [
        "d={\"name\":\"Amit\",\"course\":\"Data Science\",\"marks\":87}\n",
        "d[\"name\"] #value can be accessed through a key"
      ],
      "metadata": {
        "colab": {
          "base_uri": "https://localhost:8080/",
          "height": 35
        },
        "id": "radkIPqybQ6-",
        "outputId": "ed3d6e8d-85c0-4dfd-a331-551e1913b149"
      },
      "execution_count": 39,
      "outputs": [
        {
          "output_type": "execute_result",
          "data": {
            "text/plain": [
              "'Amit'"
            ],
            "application/vnd.google.colaboratory.intrinsic+json": {
              "type": "string"
            }
          },
          "metadata": {},
          "execution_count": 39
        }
      ]
    },
    {
      "cell_type": "code",
      "source": [
        "d[\"Amit\"] #key cannot be accessed through a value"
      ],
      "metadata": {
        "colab": {
          "base_uri": "https://localhost:8080/",
          "height": 141
        },
        "id": "oIYYEghcbZwW",
        "outputId": "555893dc-3cf0-4ceb-c991-72dffdae282c"
      },
      "execution_count": 40,
      "outputs": [
        {
          "output_type": "error",
          "ename": "KeyError",
          "evalue": "'Amit'",
          "traceback": [
            "\u001b[0;31m---------------------------------------------------------------------------\u001b[0m",
            "\u001b[0;31mKeyError\u001b[0m                                  Traceback (most recent call last)",
            "\u001b[0;32m<ipython-input-40-48d98cd44527>\u001b[0m in \u001b[0;36m<cell line: 1>\u001b[0;34m()\u001b[0m\n\u001b[0;32m----> 1\u001b[0;31m \u001b[0md\u001b[0m\u001b[0;34m[\u001b[0m\u001b[0;34m\"Amit\"\u001b[0m\u001b[0;34m]\u001b[0m \u001b[0;31m#key cannot be accessed through a value\u001b[0m\u001b[0;34m\u001b[0m\u001b[0;34m\u001b[0m\u001b[0m\n\u001b[0m",
            "\u001b[0;31mKeyError\u001b[0m: 'Amit'"
          ]
        }
      ]
    }
  ]
}